{
 "cells": [
  {
   "cell_type": "markdown",
   "metadata": {},
   "source": [
    "# CarND Object Detection Lab\n",
    "\n",
    "Let's get started!"
   ]
  },
  {
   "cell_type": "code",
   "execution_count": 1,
   "metadata": {},
   "outputs": [],
   "source": [
    "import tensorflow as tf\n",
    "import cv2\n",
    "import numpy as np\n",
    "import matplotlib.pyplot as plt\n",
    "from PIL import Image\n",
    "from PIL import ImageDraw\n",
    "from PIL import ImageColor\n",
    "import time\n",
    "from scipy.stats import norm\n",
    "\n",
    "%matplotlib inline\n",
    "plt.style.use('ggplot')"
   ]
  },
  {
   "cell_type": "markdown",
   "metadata": {},
   "source": [
    "## MobileNets\n",
    "\n",
    "[*MobileNets*](https://arxiv.org/abs/1704.04861), as the name suggests, are neural networks constructed for the purpose of running very efficiently (high FPS, low memory footprint) on mobile and embedded devices. *MobileNets* achieve this with 3 techniques:\n",
    "\n",
    "1. Perform a depthwise convolution followed by a 1x1 convolution rather than a standard convolution. The 1x1 convolution is called a pointwise convolution if it's following a depthwise convolution. The combination of a depthwise convolution followed by a pointwise convolution is sometimes called a separable depthwise convolution.\n",
    "2. Use a \"width multiplier\" - reduces the size of the input/output channels, set to a value between 0 and 1.\n",
    "3. Use a \"resolution multiplier\" - reduces the size of the original input, set to a value between 0 and 1.\n",
    "\n",
    "These 3 techiniques reduce the size of cummulative parameters and therefore the computation required. Of course, generally models with more paramters achieve a higher accuracy. *MobileNets* are no silver bullet, while they perform very well larger models will outperform them. ** *MobileNets* are designed for mobile devices, NOT cloud GPUs**. The reason we're using them in this lab is automotive hardware is closer to mobile or embedded devices than beefy cloud GPUs."
   ]
  },
  {
   "cell_type": "markdown",
   "metadata": {},
   "source": [
    "### Convolutions\n",
    "\n",
    "#### Vanilla Convolution\n",
    "\n",
    "Before we get into the *MobileNet* convolution block let's take a step back and recall the computational cost of a vanilla convolution. There are $N$ kernels of size $D_k * D_k$. Each of these kernels goes over the entire input which is a $D_f * D_f * M$ sized feature map or tensor (if that makes more sense). The computational cost is:\n",
    "\n",
    "$$\n",
    "D_f * D_f * M * N * D_k * D_k\n",
    "$$\n",
    "\n",
    "Let $D_g * D_g$ be the size of the output feature map. Then a standard convolution takes in a $D_f * D_f * M$ input feature map and returns a $D_g * D_g * N$ feature map as output.\n",
    "\n",
    "![Standard Convolution](assets/standard_conv.png)\n",
    "\n",
    "\n",
    "\n",
    "#### Depthwise Convolution\n",
    "\n",
    "A depthwise convolution acts on each input channel separately with a different kernel. $M$ input channels implies there are $M$ $D_k * D_k$ kernels. Also notice this results in $N$ being set to 1. If this doesn't make sense, think about the shape a kernel would have to be to act upon an inidividual channel.\n",
    "\n",
    "Computation cost:\n",
    "\n",
    "$$\n",
    "D_f * D_f * M * D_k * D_k\n",
    "$$\n",
    "\n",
    "\n",
    "![Depthwise Convolution](assets/depthwise_conv.png)\n",
    "\n",
    "\n",
    "#### Pointwise Convolution\n",
    "\n",
    "A pointwise convolution performs a 1x1 convolution, it's the same as a vanilla convolution except the kernel size is $1 * 1$.\n",
    "\n",
    "Computation cost:\n",
    "\n",
    "$$\n",
    "D_k * D_k * D_f * D_f * M * N =\n",
    "1 * 1 * D_f * D_f * M * N =\n",
    "D_f * D_f * M * N\n",
    "$$\n",
    "\n",
    "![Pointwise Convolution](assets/pointwise_conv.png)\n",
    "\n",
    "\n",
    "\n",
    "Thus the total computation cost is for separable depthwise convolution:\n",
    "\n",
    "$$\n",
    "D_f * D_f * M * D_k * D_k + D_f * D_f * M * N\n",
    "$$\n",
    "\n",
    "which results in $\\frac{1}{N} + \\frac{1}{D_k^2}$ reduction in computation:\n",
    "\n",
    "$$\n",
    "\\frac {D_f * D_f * M * D_k * D_k + D_f * D_f * M * N} {D_f * D_f * M * N * D_k * D_k} = \n",
    "\\frac {D_k^2 + N} {D_k^2*N} = \n",
    "\\frac {1}{N} + \\frac{1}{D_k^2}\n",
    "$$\n",
    "\n",
    "*MobileNets* use a 3x3 kernel, so assuming a large enough $N$, separable depthwise convnets are ~9x more computationally efficient than vanilla convolutions!"
   ]
  },
  {
   "cell_type": "markdown",
   "metadata": {},
   "source": [
    "### Width Multiplier\n",
    "\n",
    "The 2nd technique for reducing the computational cost is the \"width multiplier\" which is a hyperparameter inhabiting the range [0, 1] denoted here as $\\alpha$. $\\alpha$ reduces the number of input and output channels proportionally:\n",
    "\n",
    "$$\n",
    "D_f * D_f * \\alpha M * D_k * D_k + D_f * D_f * \\alpha M * \\alpha N\n",
    "$$"
   ]
  },
  {
   "cell_type": "markdown",
   "metadata": {},
   "source": [
    "### Resolution Multiplier\n",
    "\n",
    "The 3rd technique for reducing the computational cost is the \"resolution multiplier\" which is a hyperparameter inhabiting the range [0, 1] denoted here as $\\rho$. $\\rho$ reduces the size of the input feature map:\n",
    "\n",
    "$$\n",
    "\\rho D_f * \\rho D_f * M * D_k * D_k + \\rho D_f * \\rho D_f * M * N\n",
    "$$"
   ]
  },
  {
   "cell_type": "markdown",
   "metadata": {},
   "source": [
    "Combining the width and resolution multipliers results in a computational cost of:\n",
    "\n",
    "$$\n",
    "\\rho D_f * \\rho D_f * a M * D_k * D_k + \\rho D_f * \\rho D_f * a M * a N\n",
    "$$\n",
    "\n",
    "Training *MobileNets* with different values of $\\alpha$ and $\\rho$ will result in different speed vs. accuracy tradeoffs. The folks at Google have run these experiments, the result are shown in the graphic below:\n",
    "\n",
    "![MobileNets Graphic](https://github.com/tensorflow/models/raw/master/research/slim/nets/mobilenet_v1.png)"
   ]
  },
  {
   "cell_type": "markdown",
   "metadata": {},
   "source": [
    "MACs (M) represents the number of multiplication-add operations in the millions."
   ]
  },
  {
   "cell_type": "markdown",
   "metadata": {},
   "source": [
    "### Exercise 1 - Implement Separable Depthwise Convolution\n",
    "\n",
    "In this exercise you'll implement a separable depthwise convolution block and compare the number of parameters to a standard convolution block. For this exercise we'll assume the width and resolution multipliers are set to 1.\n",
    "\n",
    "Docs:\n",
    "\n",
    "* [depthwise convolution](https://www.tensorflow.org/api_docs/python/tf/nn/depthwise_conv2d)"
   ]
  },
  {
   "cell_type": "code",
   "execution_count": 2,
   "metadata": {},
   "outputs": [],
   "source": [
    "def vanilla_conv_block(x, kernel_size, output_channels):\n",
    "    \"\"\"\n",
    "    Vanilla Conv -> Batch Norm -> ReLU\n",
    "    \"\"\"\n",
    "    x = tf.layers.conv2d(\n",
    "        x, output_channels, kernel_size, (2, 2), padding='SAME')\n",
    "    x = tf.layers.batch_normalization(x)\n",
    "    return tf.nn.relu(x)\n",
    "\n",
    "# TODO: implement MobileNet conv block\n",
    "def mobilenet_conv_block(x, kernel_size, output_channels):\n",
    "    \"\"\"\n",
    "    Depthwise Conv -> Batch Norm -> ReLU -> Pointwise Conv -> Batch Norm -> ReLU\n",
    "    \"\"\"\n",
    "    # assumes BHWC format\n",
    "    input_channel_dim = x.get_shape().as_list()[-1] \n",
    "    W = tf.Variable(tf.truncated_normal((kernel_size, kernel_size, input_channel_dim, 1)))\n",
    "\n",
    "    # depthwise conv\n",
    "    x = tf.nn.depthwise_conv2d(x, W, (1, 2, 2, 1), padding='SAME')\n",
    "    x = tf.layers.batch_normalization(x)\n",
    "    x = tf.nn.relu(x)\n",
    "\n",
    "    # pointwise conv\n",
    "    x = tf.layers.conv2d(x, output_channels, (1, 1), padding='SAME')\n",
    "    x = tf.layers.batch_normalization(x)\n",
    "    return tf.nn.relu(x)"
   ]
  },
  {
   "cell_type": "markdown",
   "metadata": {},
   "source": [
    "**[Sample solution](./exercise-solutions/e1.py)**\n",
    "\n",
    "Let's compare the number of parameters in each block."
   ]
  },
  {
   "cell_type": "code",
   "execution_count": 3,
   "metadata": {},
   "outputs": [
    {
     "name": "stdout",
     "output_type": "stream",
     "text": [
      "VANILLA CONV BLOCK\n",
      "Variable vanilla/conv2d/kernel:0: number of params = 147456\n",
      "Variable vanilla/conv2d/bias:0: number of params = 512\n",
      "Variable vanilla/batch_normalization/gamma:0: number of params = 512\n",
      "Variable vanilla/batch_normalization/beta:0: number of params = 512\n",
      "Total number of params = 148992\n",
      "\n",
      "MOBILENET CONV BLOCK\n",
      "Variable mobile/Variable:0: number of params = 288\n",
      "Variable mobile/batch_normalization/gamma:0: number of params = 32\n",
      "Variable mobile/batch_normalization/beta:0: number of params = 32\n",
      "Variable mobile/conv2d/kernel:0: number of params = 16384\n",
      "Variable mobile/conv2d/bias:0: number of params = 512\n",
      "Variable mobile/batch_normalization_1/gamma:0: number of params = 512\n",
      "Variable mobile/batch_normalization_1/beta:0: number of params = 512\n",
      "Total number of params = 18272\n",
      "\n",
      "8.154x parameter reduction\n"
     ]
    }
   ],
   "source": [
    "# constants but you can change them so I guess they're not so constant :)\n",
    "INPUT_CHANNELS = 32\n",
    "OUTPUT_CHANNELS = 512\n",
    "KERNEL_SIZE = 3\n",
    "IMG_HEIGHT = 256\n",
    "IMG_WIDTH = 256\n",
    "\n",
    "with tf.Session(graph=tf.Graph()) as sess:\n",
    "    # input\n",
    "    x = tf.constant(np.random.randn(1, IMG_HEIGHT, IMG_WIDTH, INPUT_CHANNELS), dtype=tf.float32)\n",
    "\n",
    "    with tf.variable_scope('vanilla'):\n",
    "        vanilla_conv = vanilla_conv_block(x, KERNEL_SIZE, OUTPUT_CHANNELS)\n",
    "    with tf.variable_scope('mobile'):\n",
    "        mobilenet_conv = mobilenet_conv_block(x, KERNEL_SIZE, OUTPUT_CHANNELS)\n",
    "\n",
    "    vanilla_params = [\n",
    "        (v.name, np.prod(v.get_shape().as_list()))\n",
    "        for v in tf.get_collection(tf.GraphKeys.TRAINABLE_VARIABLES, 'vanilla')\n",
    "    ]\n",
    "    mobile_params = [\n",
    "        (v.name, np.prod(v.get_shape().as_list()))\n",
    "        for v in tf.get_collection(tf.GraphKeys.TRAINABLE_VARIABLES, 'mobile')\n",
    "    ]\n",
    "\n",
    "    print(\"VANILLA CONV BLOCK\")\n",
    "    total_vanilla_params = sum([p[1] for p in vanilla_params])\n",
    "    for p in vanilla_params:\n",
    "        print(\"Variable {0}: number of params = {1}\".format(p[0], p[1]))\n",
    "    print(\"Total number of params =\", total_vanilla_params)\n",
    "    print()\n",
    "\n",
    "    print(\"MOBILENET CONV BLOCK\")\n",
    "    total_mobile_params = sum([p[1] for p in mobile_params])\n",
    "    for p in mobile_params:\n",
    "        print(\"Variable {0}: number of params = {1}\".format(p[0], p[1]))\n",
    "    print(\"Total number of params =\", total_mobile_params)\n",
    "    print()\n",
    "\n",
    "    print(\"{0:.3f}x parameter reduction\".format(total_vanilla_params /\n",
    "                                             total_mobile_params))"
   ]
  },
  {
   "cell_type": "markdown",
   "metadata": {},
   "source": [
    "Your solution should show the majority of the parameters in *MobileNet* block stem from the pointwise convolution."
   ]
  },
  {
   "cell_type": "markdown",
   "metadata": {},
   "source": [
    "## *MobileNet* SSD\n",
    "\n",
    "In this section you'll use a pretrained *MobileNet* [SSD](https://arxiv.org/abs/1512.02325) model to perform object detection. You can download the *MobileNet* SSD and other models from the [TensorFlow detection model zoo](https://github.com/tensorflow/models/blob/master/research/object_detection/g3doc/detection_model_zoo.md). [Paper](https://arxiv.org/abs/1611.10012) describing comparing several object detection models.\n",
    "\n",
    "Alright, let's get into SSD!"
   ]
  },
  {
   "cell_type": "markdown",
   "metadata": {},
   "source": [
    "### Single Shot Detection (SSD)\n",
    "\n",
    "Many previous works in object detection involve more than one training phase. For example, the [Faster-RCNN](https://arxiv.org/abs/1506.01497) architecture first trains a Region Proposal Network (RPN) which decides which regions of the image are worth drawing a box around. RPN is then merged with a pretrained model for classification (classifies the regions). The image below is an RPN:\n",
    "\n",
    "![Faster-RCNN Visual](./assets/faster-rcnn.png)"
   ]
  },
  {
   "cell_type": "markdown",
   "metadata": {},
   "source": [
    "The SSD architecture is a single convolutional network which learns to predict bounding box locations and classify the locations in one pass. Put differently, SSD can be trained end to end while Faster-RCNN cannot. The SSD architecture consists of a base network followed by several convolutional layers: \n",
    "\n",
    "![SSD Visual](./assets/ssd_architecture.png)\n",
    "\n",
    "**NOTE:** In this lab the base network is a MobileNet (instead of VGG16.)\n",
    "\n",
    "#### Detecting Boxes\n",
    "\n",
    "SSD operates on feature maps to predict bounding box locations. Recall a feature map is of size $D_f * D_f * M$. For each feature map location $k$ bounding boxes are predicted. Each bounding box carries with it the following information:\n",
    "\n",
    "* 4 corner bounding box **offset** locations $(cx, cy, w, h)$\n",
    "* $C$ class probabilities $(c_1, c_2, ..., c_p)$\n",
    "\n",
    "SSD **does not** predict the shape of the box, rather just where the box is. The $k$ bounding boxes each have a predetermined shape. This is illustrated in the figure below:\n",
    "\n",
    "![](./assets/ssd_feature_maps.png)\n",
    "\n",
    "The shapes are set prior to actual training. For example, In figure (c) in the above picture there are 4 boxes, meaning $k$ = 4."
   ]
  },
  {
   "cell_type": "markdown",
   "metadata": {},
   "source": [
    "### Exercise 2 - SSD Feature Maps\n",
    "\n",
    "It would be a good exercise to read the SSD paper prior to a answering the following questions.\n",
    "\n",
    "***Q: Why does SSD use several differently sized feature maps to predict detections?***"
   ]
  },
  {
   "cell_type": "markdown",
   "metadata": {},
   "source": [
    "A: Differently sized feature maps allow for the network to learn to detect objects at different\n",
    "resolutions. This is illustrated in the figure with the 8x8 and 4x4 feature maps. This may remind you\n",
    "of skip connections in fully convolutional networks.\n",
    "\n",
    "\n",
    "**[Sample answer](./exercise-solutions/e2.md)**"
   ]
  },
  {
   "cell_type": "markdown",
   "metadata": {},
   "source": [
    "The current approach leaves us with thousands of bounding box candidates, clearly the vast majority of them are nonsensical.\n",
    "\n",
    "### Exercise 3 - Filtering Bounding Boxes\n",
    "\n",
    "***Q: What are some ways which we can filter nonsensical bounding boxes?***"
   ]
  },
  {
   "cell_type": "markdown",
   "metadata": {},
   "source": [
    "A: You may have come up with different answers. The SSD paper does 2 things:\n",
    "\n",
    "1. Filters boxes based on IoU metric. For example, if a box has an IoU score\n",
    "less than 0.5 on all ground truth boxes it's removed.\n",
    "\n",
    "2. *Hard negative mining*. This is a fancy way of saying \"search for negatives examples\n",
    "the highest confidence\". For example, a box that misclassifies a dog as a cat with 80% confidence.\n",
    "The authors of the SSD paper limit the positive to hard negative ratio to 3:1 at most. The actual positive to negative ratio is typically much higher and the number of boxes are typically reduced substantially.\n",
    "\n",
    "**[Sample answer](./exercise-solutions/e3.md)**"
   ]
  },
  {
   "cell_type": "markdown",
   "metadata": {},
   "source": [
    "#### Loss\n",
    "\n",
    "With the final set of matched boxes we can compute the loss:\n",
    "\n",
    "$$\n",
    "L = \\frac {1} {N} * ( L_{class} + L_{box})\n",
    "$$\n",
    "\n",
    "where $N$ is the total number of matched boxes, $L_{class}$ is a softmax loss for classification, and $L_{box}$ is a L1 smooth loss representing the error of the matched boxes with the ground truth boxes. L1 smooth loss is a modification of L1 loss which is more robust to outliers. In the event $N$ is 0 the loss is set 0.\n",
    "\n"
   ]
  },
  {
   "cell_type": "markdown",
   "metadata": {},
   "source": [
    "###  SSD Summary\n",
    "\n",
    "* Starts from a base model pretrained on ImageNet. \n",
    "* The base model is extended by several convolutional layers.\n",
    "* Each feature map is used to predict bounding boxes. Diversity in feature map size allows object detection at different resolutions.\n",
    "* Boxes are filtered by IoU metrics and hard negative mining.\n",
    "* Loss is a combination of classification (softmax) and dectection (smooth L1)\n",
    "* Model can be trained end to end."
   ]
  },
  {
   "cell_type": "markdown",
   "metadata": {},
   "source": [
    "## Object Detection Inference\n",
    "\n",
    "In this part of the lab you'll detect objects using pretrained object detection models. You can download the pretrained models from the [model zoo](https://github.com/tensorflow/models/blob/master/research/object_detection/g3doc/detection_model_zoo.md)."
   ]
  },
  {
   "cell_type": "code",
   "execution_count": 4,
   "metadata": {},
   "outputs": [],
   "source": [
    "# Frozen inference graph files. NOTE: change the path to where you saved the models.\n",
    "MIO_GRAPH_FILE = 'frozen_inference_graph.pb'\n",
    "SSD_GRAPH_FILE = 'ssd_mobilenet_v1_coco_2017_11_17/frozen_inference_graph.pb'\n",
    "RFCN_GRAPH_FILE = 'faster_rcnn_resnet50_coco_2017_11_08/frozen_inference_graph.pb'\n",
    "FASTER_RCNN_GRAPH_FILE = 'faster_rcnn_inception_resnet_v2_atrous_coco_2017_11_08/frozen_inference_graph.pb'"
   ]
  },
  {
   "cell_type": "markdown",
   "metadata": {},
   "source": [
    "Below are utility functions. The main purpose of these is to draw the bounding boxes back onto the original image."
   ]
  },
  {
   "cell_type": "code",
   "execution_count": 5,
   "metadata": {},
   "outputs": [
    {
     "name": "stdout",
     "output_type": "stream",
     "text": [
      "Number of colors = 148\n"
     ]
    }
   ],
   "source": [
    "# Colors (one for each class)\n",
    "cmap = ImageColor.colormap\n",
    "print(\"Number of colors =\", len(cmap))\n",
    "COLOR_LIST = sorted([c for c in cmap.keys()])\n",
    "\n",
    "#\n",
    "# Utility funcs\n",
    "#\n",
    "\n",
    "def filter_boxes(min_score, boxes, scores, classes):\n",
    "    \"\"\"Return boxes with a confidence >= `min_score`\"\"\"\n",
    "    n = len(classes)\n",
    "    idxs = []\n",
    "    for i in range(n):\n",
    "        if scores[i] >= min_score and classes[i] == 10:\n",
    "            idxs.append(i)\n",
    "    \n",
    "    filtered_boxes = boxes[idxs, ...]\n",
    "    filtered_scores = scores[idxs, ...]\n",
    "    filtered_classes = classes[idxs, ...]\n",
    "    return filtered_boxes, filtered_scores, filtered_classes\n",
    "\n",
    "def to_image_coords(boxes, height, width):\n",
    "    \"\"\"\n",
    "    The original box coordinate output is normalized, i.e [0, 1].\n",
    "    \n",
    "    This converts it back to the original coordinate based on the image\n",
    "    size.\n",
    "    \"\"\"\n",
    "    box_coords = np.zeros_like(boxes)\n",
    "    box_coords[:, 0] = boxes[:, 0] * height\n",
    "    box_coords[:, 1] = boxes[:, 1] * width\n",
    "    box_coords[:, 2] = boxes[:, 2] * height\n",
    "    box_coords[:, 3] = boxes[:, 3] * width\n",
    "    \n",
    "    return box_coords\n",
    "\n",
    "def draw_boxes(image, boxes, classes, thickness=4):\n",
    "    \"\"\"Draw bounding boxes on the image\"\"\"\n",
    "    draw = ImageDraw.Draw(image)\n",
    "    for i in range(len(boxes)):\n",
    "        bot, left, top, right = boxes[i, ...]\n",
    "        class_id = int(classes[i])\n",
    "        color = COLOR_LIST[class_id]\n",
    "        draw.line([(left, top), (left, bot), (right, bot), (right, top), (left, top)], width=thickness, fill=color)\n",
    "        \n",
    "def load_graph(graph_file):\n",
    "    \"\"\"Loads a frozen inference graph\"\"\"\n",
    "    graph = tf.Graph()\n",
    "    with graph.as_default():\n",
    "        od_graph_def = tf.GraphDef()\n",
    "        with tf.gfile.GFile(graph_file, 'rb') as fid:\n",
    "            serialized_graph = fid.read()\n",
    "            od_graph_def.ParseFromString(serialized_graph)\n",
    "            tf.import_graph_def(od_graph_def, name='')\n",
    "    return graph"
   ]
  },
  {
   "cell_type": "markdown",
   "metadata": {},
   "source": [
    "Below we load the graph and extract the relevant tensors using [`get_tensor_by_name`](https://www.tensorflow.org/api_docs/python/tf/Graph#get_tensor_by_name). These tensors reflect the input and outputs of the graph, or least the ones we care about for detecting objects."
   ]
  },
  {
   "cell_type": "code",
   "execution_count": 7,
   "metadata": {},
   "outputs": [
    {
     "name": "stdout",
     "output_type": "stream",
     "text": [
      "Detection classes =  Tensor(\"detection_classes:0\", dtype=float32)\n"
     ]
    }
   ],
   "source": [
    "# detection_graph = load_graph(SSD_GRAPH_FILE)\n",
    "# detection_graph = load_graph(RFCN_GRAPH_FILE)\n",
    "detection_graph = load_graph(MIO_GRAPH_FILE)\n",
    "\n",
    "# The input placeholder for the image.\n",
    "# `get_tensor_by_name` returns the Tensor with the associated name in the Graph.\n",
    "image_tensor = detection_graph.get_tensor_by_name('image_tensor:0')\n",
    "\n",
    "# Each box represents a part of the image where a particular object was detected.\n",
    "detection_boxes = detection_graph.get_tensor_by_name('detection_boxes:0')\n",
    "\n",
    "# Each score represent how level of confidence for each of the objects.\n",
    "# Score is shown on the result image, together with the class label.\n",
    "detection_scores = detection_graph.get_tensor_by_name('detection_scores:0')\n",
    "\n",
    "# The classification of the object (integer id).\n",
    "detection_classes = detection_graph.get_tensor_by_name('detection_classes:0')\n",
    "print(\"Detection classes = \", detection_classes)"
   ]
  },
  {
   "cell_type": "markdown",
   "metadata": {},
   "source": [
    "Run detection and classification on a sample image."
   ]
  },
  {
   "cell_type": "code",
   "execution_count": 16,
   "metadata": {},
   "outputs": [
    {
     "name": "stdout",
     "output_type": "stream",
     "text": [
      "0.326338\n",
      "38.0\n",
      "Scores =  []\n",
      "Classes = []\n",
      "[]\n"
     ]
    },
    {
     "ename": "IndexError",
     "evalue": "index 0 is out of bounds for axis 0 with size 0",
     "output_type": "error",
     "traceback": [
      "\u001b[0;31m---------------------------------------------------------------------------\u001b[0m",
      "\u001b[0;31mIndexError\u001b[0m                                Traceback (most recent call last)",
      "\u001b[0;32m<ipython-input-16-16dde323618a>\u001b[0m in \u001b[0;36m<module>\u001b[0;34m()\u001b[0m\n\u001b[1;32m     74\u001b[0m \u001b[0;31m#     image = cv2.cvtColor(image, cv2.COLOR_BGR2RGB)\u001b[0m\u001b[0;34m\u001b[0m\u001b[0;34m\u001b[0m\u001b[0m\n\u001b[1;32m     75\u001b[0m \u001b[0;34m\u001b[0m\u001b[0m\n\u001b[0;32m---> 76\u001b[0;31m     \u001b[0mymin\u001b[0m \u001b[0;34m=\u001b[0m \u001b[0mint\u001b[0m\u001b[0;34m(\u001b[0m\u001b[0mbox_coords\u001b[0m\u001b[0;34m[\u001b[0m\u001b[0;36m0\u001b[0m\u001b[0;34m]\u001b[0m\u001b[0;34m[\u001b[0m\u001b[0;36m0\u001b[0m\u001b[0;34m]\u001b[0m\u001b[0;34m)\u001b[0m\u001b[0;34m\u001b[0m\u001b[0m\n\u001b[0m\u001b[1;32m     77\u001b[0m     \u001b[0mxmin\u001b[0m \u001b[0;34m=\u001b[0m \u001b[0mint\u001b[0m\u001b[0;34m(\u001b[0m\u001b[0mbox_coords\u001b[0m\u001b[0;34m[\u001b[0m\u001b[0;36m0\u001b[0m\u001b[0;34m]\u001b[0m\u001b[0;34m[\u001b[0m\u001b[0;36m1\u001b[0m\u001b[0;34m]\u001b[0m\u001b[0;34m)\u001b[0m\u001b[0;34m\u001b[0m\u001b[0m\n\u001b[1;32m     78\u001b[0m     \u001b[0mymax\u001b[0m \u001b[0;34m=\u001b[0m \u001b[0mint\u001b[0m\u001b[0;34m(\u001b[0m\u001b[0mbox_coords\u001b[0m\u001b[0;34m[\u001b[0m\u001b[0;36m0\u001b[0m\u001b[0;34m]\u001b[0m\u001b[0;34m[\u001b[0m\u001b[0;36m2\u001b[0m\u001b[0;34m]\u001b[0m\u001b[0;34m)\u001b[0m\u001b[0;34m\u001b[0m\u001b[0m\n",
      "\u001b[0;31mIndexError\u001b[0m: index 0 is out of bounds for axis 0 with size 0"
     ]
    },
    {
     "data": {
      "image/png": "[encoded data removed]",
      "text/plain": [
       "<matplotlib.figure.Figure at 0x1a27946518>"
      ]
     },
     "metadata": {},
     "output_type": "display_data"
    }
   ],
   "source": [
    "import cv2\n",
    "import numpy\n",
    "\n",
    "# Load a sample image.\n",
    "image = Image.open('./assets/out.png')\n",
    "ycbcr = image.convert('YCbCr')\n",
    "image_np = numpy.ndarray((1, image.size[1], image.size[0], 3), 'u1', ycbcr.tobytes())\n",
    "# image_np = np.expand_dims(np.asarray(image, dtype=np.uint8), 0)\n",
    "# image[...,:3].shape\n",
    "\n",
    "MIN_THRESHOLD = 0.7\n",
    "\n",
    "LABEL_DICT =  {\n",
    "    \"Green\" : 1,\n",
    "    \"Red\" : 2,\n",
    "    \"GreenLeft\" : 3,\n",
    "    \"GreenRight\" : 4,\n",
    "    \"RedLeft\" : 5,\n",
    "    \"RedRight\" : 6,\n",
    "    \"Yellow\" : 7,\n",
    "    \"off\" : 8,\n",
    "    \"RedStraight\" : 9,\n",
    "    \"GreenStraight\" : 10,\n",
    "    \"GreenStraightLeft\" : 11,\n",
    "    \"GreenStraightRight\" : 12,\n",
    "    \"RedStraightLeft\" : 13,\n",
    "    \"RedStraightRight\" : 14\n",
    "}\n",
    "\n",
    "with tf.Session(graph=detection_graph) as sess:                \n",
    "    # Actual detection.\n",
    "    (boxes, scores, classes) = sess.run([detection_boxes, detection_scores, detection_classes], \n",
    "                                        feed_dict={image_tensor: image_np})\n",
    "\n",
    "    \n",
    "    # Remove unnecessary dimensions\n",
    "    boxes = np.squeeze(boxes)\n",
    "    scores = np.squeeze(scores)\n",
    "    classes = np.squeeze(classes)\n",
    "     \n",
    "    # Get the max\n",
    "    max_score = scores[0]\n",
    "    max_class = classes[0]\n",
    "    print(scores[0])\n",
    "    print(classes[0])\n",
    "    \n",
    "#     if (max_score > MIN_THRESHOLD):\n",
    "#         print(\"Hay algo\")\n",
    "#         if max_class in (1, 3, 4, 10, 11, 12):\n",
    "#             print(\"Es verde\")\n",
    "#         elif max_class in (2, 5, 6, 9, 13, 14):\n",
    "#             print(\"Es rojo\")\n",
    "#         elif max_class == 7:\n",
    "#             print(\"Es yellow\")\n",
    "    \n",
    "#     print(\"Scores = \", scores)\n",
    "#     print(\"Classes =\", classes)\n",
    "\n",
    "    confidence_cutoff = 0.3\n",
    "    # Filter boxes with a confidence score less than `confidence_cutoff`\n",
    "    boxes, scores, classes = filter_boxes(confidence_cutoff, boxes, scores, classes)\n",
    "    print(\"Scores = \", scores)\n",
    "    print(\"Classes =\", classes)\n",
    "\n",
    "#     print(boxes)\n",
    "    # The current box coordinates are normalized to a range between 0 and 1.\n",
    "    # This converts the coordinates actual location on the image.\n",
    "    width, height = image.size\n",
    "    box_coords = to_image_coords(boxes, height, width)\n",
    "    print(box_coords)\n",
    "    plt.imshow(image) \n",
    "\n",
    "    image = np.asarray(image)\n",
    "#     image = cv2.cvtColor(image, cv2.COLOR_BGR2RGB)\n",
    "    \n",
    "    ymin = int(box_coords[0][0])\n",
    "    xmin = int(box_coords[0][1])\n",
    "    ymax = int(box_coords[0][2])\n",
    "    xmax = int(box_coords[0][3])\n",
    "    print(ymin)\n",
    "    print(xmin)\n",
    "    print(ymax)\n",
    "    print(xmax)\n",
    "    cropped_image = image[ymin:ymax, xmin:xmax, :]\n",
    "    plt.imshow(cropped_image)\n",
    "    image = cv2.resize(cropped_image, (24, 72))\n",
    "#     resized_image = cv2.resize(cropped_image, (24, 72))\n",
    "    \n",
    "    # Each class with be represented by a differently colored box\n",
    "#     draw_boxes(image, box_coords, classes)\n",
    "\n",
    "    plt.figure(figsize=(12, 8))\n",
    "    plt.imshow(image) "
   ]
  },
  {
   "cell_type": "code",
   "execution_count": 84,
   "metadata": {},
   "outputs": [
    {
     "name": "stdout",
     "output_type": "stream",
     "text": [
      "INFO:tensorflow:Restoring parameters from ./traffic_light.ckpt\n",
      "0\n",
      "[ 3.65025926 -1.15429127 -1.64301252]\n"
     ]
    },
    {
     "data": {
      "image/png": "[encoded data removed]",
      "text/plain": [
       "<matplotlib.figure.Figure at 0x1a4241ae10>"
      ]
     },
     "metadata": {},
     "output_type": "display_data"
    }
   ],
   "source": [
    "import matplotlib.image as mpimg\n",
    "\n",
    "with tf.Session() as sess:\n",
    "  # Restore variables from disk.\n",
    "#   saver.restore(sess, \"./traffic_light.ckpt\")\n",
    "#   print (\"Model restored.\")\n",
    "\n",
    "  gpu_options = tf.GPUOptions(allow_growth=True)\n",
    "  config = tf.ConfigProto(log_device_placement=False, gpu_options=gpu_options)\n",
    "  sess = tf.Session(config=config)\n",
    "\n",
    "  saver = tf.train.import_meta_graph('./traffic_light.ckpt.meta')\n",
    "  saver.restore(sess, './traffic_light.ckpt')\n",
    "\n",
    "  input_image = tf.get_default_graph().get_tensor_by_name(\"input_image:0\")\n",
    "  model_output = tf.get_default_graph().get_tensor_by_name(\"model_output:0\")\n",
    "\n",
    "  plt.imshow(image) \n",
    "#   image = mpimg.imread('assets/1.jpg')\n",
    "\n",
    "  classes = sess.run(model_output, {input_image: [image]})[0]\n",
    "  print(classes.tolist().index(max(classes)))\n",
    "    \n",
    "  print (classes)"
   ]
  },
  {
   "cell_type": "markdown",
   "metadata": {},
   "source": [
    "## Timing Detection\n",
    "\n",
    "The model zoo comes with a variety of models, each its benefits and costs. Below you'll time some of these models. The general tradeoff being sacrificing model accuracy for seconds per frame (SPF)."
   ]
  },
  {
   "cell_type": "code",
   "execution_count": 69,
   "metadata": {},
   "outputs": [],
   "source": [
    "def time_detection(sess, img_height, img_width, runs=10):\n",
    "    image_tensor = sess.graph.get_tensor_by_name('image_tensor:0')\n",
    "    detection_boxes = sess.graph.get_tensor_by_name('detection_boxes:0')\n",
    "    detection_scores = sess.graph.get_tensor_by_name('detection_scores:0')\n",
    "    detection_classes = sess.graph.get_tensor_by_name('detection_classes:0')\n",
    "\n",
    "    # warmup\n",
    "    gen_image = np.uint8(np.random.randn(1, img_height, img_width, 3))\n",
    "    sess.run([detection_boxes, detection_scores, detection_classes], feed_dict={image_tensor: gen_image})\n",
    "    \n",
    "    times = np.zeros(runs)\n",
    "    for i in range(runs):\n",
    "        t0 = time.time()\n",
    "        sess.run([detection_boxes, detection_scores, detection_classes], feed_dict={image_tensor: image_np})\n",
    "        t1 = time.time()\n",
    "        times[i] = (t1 - t0) * 1000\n",
    "    return times"
   ]
  },
  {
   "cell_type": "code",
   "execution_count": 70,
   "metadata": {},
   "outputs": [],
   "source": [
    "with tf.Session(graph=detection_graph) as sess:\n",
    "    times = time_detection(sess, 600, 1000, runs=10)"
   ]
  },
  {
   "cell_type": "code",
   "execution_count": 71,
   "metadata": {},
   "outputs": [
    {
     "data": {
      "image/png": "[encoded data removed]",
      "text/plain": [
       "<matplotlib.figure.Figure at 0x1a2c5dbf60>"
      ]
     },
     "metadata": {},
     "output_type": "display_data"
    }
   ],
   "source": [
    "# Create a figure instance\n",
    "fig = plt.figure(1, figsize=(9, 6))\n",
    "\n",
    "# Create an axes instance\n",
    "ax = fig.add_subplot(111)\n",
    "plt.title(\"Object Detection Timings\")\n",
    "plt.ylabel(\"Time (ms)\")\n",
    "\n",
    "# Create the boxplot\n",
    "plt.style.use('fivethirtyeight')\n",
    "bp = ax.boxplot(times)"
   ]
  },
  {
   "cell_type": "markdown",
   "metadata": {},
   "source": [
    "### Exercise 4 - Model Tradeoffs\n",
    "\n",
    "Download a few models from the [model zoo](https://github.com/tensorflow/models/blob/master/research/object_detection/g3doc/detection_model_zoo.md) and compare the timings."
   ]
  },
  {
   "cell_type": "markdown",
   "metadata": {},
   "source": [
    "## Detection on a Video\n",
    "\n",
    "Finally run your pipeline on [this short video](https://s3-us-west-1.amazonaws.com/udacity-selfdrivingcar/advanced_deep_learning/driving.mp4)."
   ]
  },
  {
   "cell_type": "code",
   "execution_count": 21,
   "metadata": {},
   "outputs": [],
   "source": [
    "# Import everything needed to edit/save/watch video clips\n",
    "from moviepy.editor import VideoFileClip\n",
    "from IPython.display import HTML"
   ]
  },
  {
   "cell_type": "code",
   "execution_count": 22,
   "metadata": {},
   "outputs": [
    {
     "data": {
      "text/html": [
       "\n",
       "<video width=\"960\" height=\"600\" controls>\n",
       "  <source src=\"driving.mp4\" type=\"video/mp4\">\n",
       "</video>\n"
      ],
      "text/plain": [
       "<IPython.core.display.HTML object>"
      ]
     },
     "execution_count": 22,
     "metadata": {},
     "output_type": "execute_result"
    }
   ],
   "source": [
    "HTML(\"\"\"\n",
    "<video width=\"960\" height=\"600\" controls>\n",
    "  <source src=\"{0}\" type=\"video/mp4\">\n",
    "</video>\n",
    "\"\"\".format('driving.mp4'))"
   ]
  },
  {
   "cell_type": "markdown",
   "metadata": {
    "collapsed": true
   },
   "source": [
    "### Exercise 5 - Object Detection on a Video\n",
    "\n",
    "Run an object detection pipeline on the above clip."
   ]
  },
  {
   "cell_type": "code",
   "execution_count": 23,
   "metadata": {},
   "outputs": [],
   "source": [
    "clip = VideoFileClip('driving.mp4')"
   ]
  },
  {
   "cell_type": "code",
   "execution_count": 24,
   "metadata": {},
   "outputs": [],
   "source": [
    "# TODO: Complete this function.\n",
    "# The input is an NumPy array.\n",
    "# The output should also be a NumPy array.\n",
    "def pipeline(img):\n",
    "    draw_img = Image.fromarray(img)\n",
    "    boxes, scores, classes = sess.run([detection_boxes, detection_scores, detection_classes], feed_dict={image_tensor: np.expand_dims(img, 0)})\n",
    "    # Remove unnecessary dimensions\n",
    "    boxes = np.squeeze(boxes)\n",
    "    scores = np.squeeze(scores)\n",
    "    classes = np.squeeze(classes)\n",
    "\n",
    "    confidence_cutoff = 0.8\n",
    "    # Filter boxes with a confidence score less than `confidence_cutoff`\n",
    "    boxes, scores, classes = filter_boxes(confidence_cutoff, boxes, scores, classes)\n",
    "\n",
    "    # The current box coordinates are normalized to a range between 0 and 1.\n",
    "    # This converts the coordinates actual location on the image.\n",
    "    width, height = draw_img.size\n",
    "    box_coords = to_image_coords(boxes, height, width)\n",
    "\n",
    "    # Each class with be represented by a differently colored box\n",
    "    draw_boxes(draw_img, box_coords, classes)\n",
    "    return np.array(draw_img)"
   ]
  },
  {
   "cell_type": "markdown",
   "metadata": {},
   "source": [
    "**[Sample solution](./exercise-solutions/e5.py)**"
   ]
  },
  {
   "cell_type": "code",
   "execution_count": 25,
   "metadata": {},
   "outputs": [
    {
     "name": "stdout",
     "output_type": "stream",
     "text": [
      "[MoviePy] >>>> Building video result.mp4\n",
      "[MoviePy] Writing audio in resultTEMP_MPY_wvf_snd.mp3\n"
     ]
    },
    {
     "name": "stderr",
     "output_type": "stream",
     "text": [
      "100%|██████████| 1311/1311 [00:01<00:00, 960.40it/s] "
     ]
    },
    {
     "name": "stdout",
     "output_type": "stream",
     "text": [
      "[MoviePy] Done.\n",
      "[MoviePy] Writing video result.mp4\n"
     ]
    },
    {
     "name": "stderr",
     "output_type": "stream",
     "text": [
      "\n",
      "100%|██████████| 1782/1782 [6:20:33<00:00,  9.52s/it]  \n"
     ]
    },
    {
     "name": "stdout",
     "output_type": "stream",
     "text": [
      "[MoviePy] Done.\n",
      "[MoviePy] >>>> Video ready: result.mp4 \n",
      "\n"
     ]
    }
   ],
   "source": [
    "with tf.Session(graph=detection_graph) as sess:\n",
    "    image_tensor = sess.graph.get_tensor_by_name('image_tensor:0')\n",
    "    detection_boxes = sess.graph.get_tensor_by_name('detection_boxes:0')\n",
    "    detection_scores = sess.graph.get_tensor_by_name('detection_scores:0')\n",
    "    detection_classes = sess.graph.get_tensor_by_name('detection_classes:0')\n",
    "    \n",
    "    new_clip = clip.fl_image(pipeline)\n",
    "    \n",
    "    # write to file\n",
    "    new_clip.write_videofile('result.mp4')"
   ]
  },
  {
   "cell_type": "code",
   "execution_count": 26,
   "metadata": {},
   "outputs": [
    {
     "data": {
      "text/html": [
       "\n",
       "<video width=\"960\" height=\"600\" controls>\n",
       "  <source src=\"result.mp4\" type=\"video/mp4\">\n",
       "</video>\n"
      ],
      "text/plain": [
       "<IPython.core.display.HTML object>"
      ]
     },
     "execution_count": 26,
     "metadata": {},
     "output_type": "execute_result"
    }
   ],
   "source": [
    "HTML(\"\"\"\n",
    "<video width=\"960\" height=\"600\" controls>\n",
    "  <source src=\"{0}\" type=\"video/mp4\">\n",
    "</video>\n",
    "\"\"\".format('result.mp4'))"
   ]
  },
  {
   "cell_type": "markdown",
   "metadata": {},
   "source": [
    "## Further Exploration\n",
    "\n",
    "Some ideas to take things further:\n",
    "\n",
    "* Finetune the model on a new dataset more relevant to autonomous vehicles. Instead of loading the frozen inference graph you'll load the checkpoint.\n",
    "* Optimize the model and get the FPS as low as possible.\n",
    "* Build your own detector. There are several base model pretrained on ImageNet you can choose from. [Keras](https://keras.io/applications/) is probably the quickest way to get setup in this regard.\n"
   ]
  },
  {
   "cell_type": "code",
   "execution_count": null,
   "metadata": {
    "collapsed": true
   },
   "outputs": [],
   "source": []
  }
 ],
 "metadata": {
  "kernelspec": {
   "display_name": "Python 3",
   "language": "python",
   "name": "python3"
  },
  "language_info": {
   "codemirror_mode": {
    "name": "ipython",
    "version": 3
   },
   "file_extension": ".py",
   "mimetype": "text/x-python",
   "name": "python",
   "nbconvert_exporter": "python",
   "pygments_lexer": "ipython3",
   "version": "3.5.4"
  },
  "widgets": {
   "state": {},
   "version": "1.1.2"
  }
 },
 "nbformat": 4,
 "nbformat_minor": 2
}
